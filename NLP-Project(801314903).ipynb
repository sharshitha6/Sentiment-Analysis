{
 "cells": [
  {
   "cell_type": "code",
   "execution_count": 1,
   "id": "116a6b3c",
   "metadata": {},
   "outputs": [
    {
     "name": "stdout",
     "output_type": "stream",
     "text": [
      "Authentication successful\n"
     ]
    }
   ],
   "source": [
    "import tweepy\n",
    "auth = tweepy.OAuthHandler(\"gyrMxKAb25Jl9i24oEzJoHsoK\", \n",
    "    \"d8FGpPREDx0GTXJZqwn3JaCmn8HkVv8W789x8d4H37RY1bCmbr\")\n",
    "auth.set_access_token(\"3229889755-WILpWosb0bvazDYazlAybKGG8msMIuLfRLXKEXy\", \n",
    "    \"ePwteMlE6iwGhrOWl9X26PNtXoAAYrzlApyjzEHafSWfa\")\n",
    "api = tweepy.API(auth)\n",
    "try:\n",
    "    api.verify_credentials()\n",
    "    print(\"Authentication successful\")\n",
    "except:\n",
    "    print(\"Not Authenticated\")"
   ]
  },
  {
   "cell_type": "code",
   "execution_count": 77,
   "id": "c2ff43ff",
   "metadata": {},
   "outputs": [
    {
     "name": "stdout",
     "output_type": "stream",
     "text": [
      "521\n"
     ]
    }
   ],
   "source": [
    "import pandas as pd \n",
    "tweet_data = []\n",
    "#[\"#GreatandGood\",\"#UVA\",\"#UVAAlumni\",\"#UVALaw\",\"#UVAHealth\",\"#UVA27\",\"#UVAStrong\",\"#RunWithJim\",\"#GoHoos\",\"#HoosNext\",\"#UVASchoolOfMedicine\"\n",
    "#\"#MarchMadness\",\"#OnTheRise\",\"#STATMadness\",\"#UVAFacultySpotlight\",\"#ACCMBB\",\"#WCW\",\"#SCOTUS\",\"#Charlottesville\"\n",
    "#\"#blackexcellence\",\"#Wahoowa\"]\n",
    "hashtags = [\"#blackexcellence\"]  \n",
    "for hashtag in hashtags:\n",
    "    for tweet in tweepy.Cursor(api.search_tweets, q=hashtag, lang=\"en\", tweet_mode=\"extended\").items(1500):\n",
    "        if 'retweeted_status' in dir(tweet):\n",
    "            text = tweet.retweeted_status.full_text\n",
    "        else:\n",
    "            text = tweet.full_text\n",
    "        if text not in [t['Full_Text'] for t in tweet_data]:\n",
    "                tweet_data.append({\n",
    "                    'User_Name': tweet.user.screen_name,\n",
    "                    'Date': tweet.created_at.date(),\n",
    "                    'Time': tweet.created_at.time(),\n",
    "                    'Full_Text': text\n",
    "                })\n",
    "df = pd.DataFrame(tweet_data)\n",
    "df.to_csv('UVA.csv',mode='a', index=False)\n",
    "print(len(df))"
   ]
  },
  {
   "cell_type": "markdown",
   "id": "e3c578d4",
   "metadata": {},
   "source": [
    "#### Preprocessing the tweets"
   ]
  },
  {
   "cell_type": "code",
   "execution_count": 217,
   "id": "d4b77775",
   "metadata": {},
   "outputs": [],
   "source": [
    "import re\n",
    "import string\n",
    "import nltk\n",
    "from nltk.corpus import stopwords\n",
    "import unicodedata\n",
    "import emoji\n",
    "def clean_text(text):\n",
    "    text = re.sub(r\"http\\S+|www\\S+|https\\S+\", \"\", text)\n",
    "    text = re.sub(r'@\\S+', '', text)\n",
    "    text = text.replace(\":\", \" \")\n",
    "    text = text.translate(str.maketrans(\"\", \"\", string.punctuation))\n",
    "    text = text.lower()\n",
    "    stop_words = set(stopwords.words(\"english\"))\n",
    "    tokens = nltk.word_tokenize(text)\n",
    "    filtered_tokens = [word for word in tokens if word.lower() not in stop_words]\n",
    "    cleaned_text = \" \".join(filtered_tokens)\n",
    "    return cleaned_text"
   ]
  },
  {
   "cell_type": "code",
   "execution_count": 218,
   "id": "7ff1d32b",
   "metadata": {},
   "outputs": [],
   "source": [
    "df = pd.read_csv(\"UVA.csv\")\n",
    "df['Preprocessed_Text'] = df['Full_Text'].apply(clean_text)\n",
    "df = df.drop_duplicates(subset='Preprocessed_Text')\n",
    "df = df.reset_index(drop=True)\n",
    "df = df.drop('Full_Text', axis=1)\n",
    "df.to_csv('UVA_cleaned_data.csv', index=False)"
   ]
  },
  {
   "cell_type": "code",
   "execution_count": 219,
   "id": "6cb48105",
   "metadata": {},
   "outputs": [],
   "source": [
    "from sklearn.feature_extraction.text import CountVectorizer, TfidfVectorizer\n",
    "df = pd.read_csv(\"UVA_cleaned_data.csv\")\n",
    "count_vectorizer = CountVectorizer()\n",
    "count_matrix = count_vectorizer.fit_transform(df['Preprocessed_Text'])\n",
    "tfidf_vectorizer = TfidfVectorizer()\n",
    "tfidf_matrix = tfidf_vectorizer.fit_transform(df['Preprocessed_Text'])"
   ]
  },
  {
   "cell_type": "code",
   "execution_count": 221,
   "id": "1385a948",
   "metadata": {},
   "outputs": [],
   "source": [
    "from transformers import pipeline\n",
    "model_name = \"distilbert-base-uncased-finetuned-sst-2-english\"\n",
    "revision = \"af0f99b\"\n",
    "model = pipeline(\"sentiment-analysis\", model=model_name, revision=revision)\n",
    "df = pd.read_csv(\"UVA_cleaned_data.csv\")\n",
    "sentiment_labels = []\n",
    "for text in df['Preprocessed_Text']:\n",
    "    result = model(text)[0]\n",
    "    sentiment = result['label']\n",
    "    if sentiment == 'POSITIVE':\n",
    "        sentiment_labels.append('Positive')\n",
    "    elif sentiment == 'NEGATIVE':\n",
    "        sentiment_labels.append('Negative')\n",
    "    else:\n",
    "        sentiment_labels.append('Neutral')\n",
    "df['Sentiment'] = sentiment_labels"
   ]
  },
  {
   "cell_type": "code",
   "execution_count": 223,
   "id": "fbbf2cba",
   "metadata": {},
   "outputs": [],
   "source": [
    "df.to_csv(\"UVA_cleaned_data.csv\", index=False)"
   ]
  },
  {
   "cell_type": "code",
   "execution_count": 226,
   "id": "5665694d",
   "metadata": {},
   "outputs": [
    {
     "name": "stdout",
     "output_type": "stream",
     "text": [
      "Epoch 1/15\n",
      "30/30 [==============================] - 10s 105ms/step - loss: 0.7389 - accuracy: 0.6272 - val_loss: 0.7242 - val_accuracy: 0.6645\n",
      "Epoch 2/15\n",
      "30/30 [==============================] - 1s 50ms/step - loss: 0.7002 - accuracy: 0.6415 - val_loss: 0.6520 - val_accuracy: 0.6985\n",
      "Epoch 3/15\n",
      "30/30 [==============================] - 1s 50ms/step - loss: 0.6177 - accuracy: 0.7185 - val_loss: 0.5941 - val_accuracy: 0.7240\n",
      "Epoch 4/15\n",
      "30/30 [==============================] - 2s 52ms/step - loss: 0.5611 - accuracy: 0.7536 - val_loss: 0.5926 - val_accuracy: 0.6964\n",
      "Epoch 5/15\n",
      "30/30 [==============================] - 1s 50ms/step - loss: 0.5498 - accuracy: 0.7552 - val_loss: 0.5586 - val_accuracy: 0.7304\n",
      "Epoch 6/15\n",
      "30/30 [==============================] - 2s 51ms/step - loss: 0.5326 - accuracy: 0.7525 - val_loss: 0.5504 - val_accuracy: 0.7367\n",
      "Epoch 7/15\n",
      "30/30 [==============================] - 2s 51ms/step - loss: 0.5028 - accuracy: 0.7801 - val_loss: 0.5356 - val_accuracy: 0.7473\n",
      "Epoch 8/15\n",
      "30/30 [==============================] - 2s 51ms/step - loss: 0.4733 - accuracy: 0.7918 - val_loss: 0.5423 - val_accuracy: 0.7431\n",
      "Epoch 9/15\n",
      "30/30 [==============================] - 2s 51ms/step - loss: 0.4491 - accuracy: 0.8019 - val_loss: 0.5745 - val_accuracy: 0.7304\n",
      "Epoch 10/15\n",
      "30/30 [==============================] - 2s 51ms/step - loss: 0.4151 - accuracy: 0.8364 - val_loss: 0.5350 - val_accuracy: 0.7410\n",
      "Epoch 11/15\n",
      "30/30 [==============================] - 2s 52ms/step - loss: 0.3768 - accuracy: 0.8417 - val_loss: 0.5828 - val_accuracy: 0.7473\n",
      "Epoch 12/15\n",
      "30/30 [==============================] - 2s 51ms/step - loss: 0.3820 - accuracy: 0.8348 - val_loss: 0.5552 - val_accuracy: 0.7431\n",
      "Epoch 13/15\n",
      "30/30 [==============================] - 2s 50ms/step - loss: 0.3150 - accuracy: 0.8720 - val_loss: 0.6216 - val_accuracy: 0.7325\n",
      "Epoch 14/15\n",
      "30/30 [==============================] - 2s 68ms/step - loss: 0.3017 - accuracy: 0.8800 - val_loss: 0.6001 - val_accuracy: 0.7325\n",
      "Epoch 15/15\n",
      "30/30 [==============================] - 2s 59ms/step - loss: 0.2811 - accuracy: 0.8890 - val_loss: 0.7644 - val_accuracy: 0.7473\n",
      "Test Loss: 0.764\n",
      "Test Accuracy: 0.747\n"
     ]
    }
   ],
   "source": [
    "import numpy as np\n",
    "import pandas as pd\n",
    "from keras.preprocessing.text import Tokenizer\n",
    "from keras.preprocessing.sequence import pad_sequences\n",
    "from keras.models import Sequential\n",
    "from keras.layers import Embedding, LSTM, Conv1D, MaxPooling1D, GRU, Dense, Dropout, SpatialDropout1D\n",
    "from tensorflow.keras.optimizers import Adam\n",
    "from sklearn.model_selection import train_test_split\n",
    "from sklearn.preprocessing import LabelEncoder\n",
    "from keras.layers import Bidirectional, GlobalMaxPooling1D\n",
    "from tensorflow.keras import regularizers\n",
    "\n",
    "df = pd.read_csv(\"UVA_cleaned_data.csv\")\n",
    "label_encoder = LabelEncoder()\n",
    "df['Sentiment'] = label_encoder.fit_transform(df['Sentiment'])\n",
    "\n",
    "tokenizer = Tokenizer()\n",
    "tokenizer.fit_on_texts(df['Preprocessed_Text'])\n",
    "sequences = tokenizer.texts_to_sequences(df['Preprocessed_Text'])\n",
    "\n",
    "max_sequence_length = max(len(seq) for seq in sequences)\n",
    "padded_sequences = pad_sequences(sequences, maxlen=max_sequence_length)\n",
    "\n",
    "X_train, X_test, y_train, y_test = train_test_split(padded_sequences, df['Sentiment'], test_size=0.2, random_state=42)\n",
    "\n",
    "embeddings_index = {}\n",
    "with open('glove.6B.100d.txt', encoding='utf8') as f:\n",
    "    for line in f:\n",
    "        values = line.split()\n",
    "        word = values[0]\n",
    "        coefs = np.asarray(values[1:], dtype='float32')\n",
    "        embeddings_index[word] = coefs\n",
    "word_index = tokenizer.word_index\n",
    "num_words = min(20000, len(word_index) + 1)\n",
    "embedding_matrix = np.zeros((num_words, 100))\n",
    "for word, i in word_index.items():\n",
    "    if i >= num_words:\n",
    "        continue\n",
    "    embedding_vector = embeddings_index.get(word)\n",
    "    if embedding_vector is not None:\n",
    "        embedding_matrix[i] = embedding_vector\n",
    "\n",
    "model = Sequential()\n",
    "model.add(Embedding(input_dim=num_words, output_dim=100, input_length=max_sequence_length, weights=[embedding_matrix], trainable=False))\n",
    "model.add(SpatialDropout1D(0.3))\n",
    "model.add(Conv1D(64, 5, activation='relu'))\n",
    "model.add(MaxPooling1D(pool_size=4))\n",
    "model.add(Bidirectional(LSTM(64, return_sequences=True)))\n",
    "model.add(Bidirectional(GRU(64)))\n",
    "model.add(Dropout(0.3))\n",
    "model.add(Dense(64, activation='relu', kernel_regularizer=regularizers.l2(0.001)))\n",
    "model.add(Dense(1, activation='sigmoid'))\n",
    "\n",
    "model.compile(loss='binary_crossentropy', optimizer=Adam(learning_rate=0.0005), metrics=['accuracy'])\n",
    "\n",
    "history = model.fit(X_train, y_train, validation_data=(X_test, y_test), epochs=15, batch_size=64)\n",
    "\n",
    "loss, accuracy = model.evaluate(X_test, y_test, verbose=0)\n",
    "print(f\"Test Loss: {loss:.3f}\")\n",
    "print(f\"Test Accuracy: {accuracy:.3f}\")\n"
   ]
  },
  {
   "cell_type": "code",
   "execution_count": 233,
   "id": "423bc5aa",
   "metadata": {},
   "outputs": [
    {
     "data": {
      "image/png": "[encoded data removed]",
      "text/plain": [
       "<Figure size 1200x600 with 2 Axes>"
      ]
     },
     "metadata": {},
     "output_type": "display_data"
    }
   ],
   "source": [
    "import matplotlib.pyplot as plt\n",
    "\n",
    "train_acc = history.history['accuracy']\n",
    "val_acc = history.history['val_accuracy']\n",
    "train_loss = history.history['loss']\n",
    "val_loss = history.history['val_loss']\n",
    "\n",
    "fig, (ax1, ax2) = plt.subplots(1, 2, figsize=(12, 6))\n",
    "\n",
    "ax1.plot(train_acc, label='Training Accuracy')\n",
    "ax1.plot(val_acc, label='Validation Accuracy')\n",
    "ax1.set_xlabel('Epoch')\n",
    "ax1.set_ylabel('Accuracy')\n",
    "ax1.legend()\n",
    "\n",
    "ax2.plot(train_loss, label='Loss')\n",
    "#ax2.plot(val_loss, label='Validation Loss')\n",
    "ax2.set_xlabel('Epoch')\n",
    "ax2.set_ylabel('Loss')\n",
    "ax2.legend()\n",
    "\n",
    "plt.show()"
   ]
  },
  {
   "cell_type": "code",
   "execution_count": 228,
   "id": "2522f120",
   "metadata": {},
   "outputs": [
    {
     "data": {
      "text/plain": [
       "<AxesSubplot:>"
      ]
     },
     "execution_count": 228,
     "metadata": {},
     "output_type": "execute_result"
    },
    {
     "data": {
      "image/png": "[encoded data removed]",
      "text/plain": [
       "<Figure size 640x480 with 2 Axes>"
      ]
     },
     "metadata": {},
     "output_type": "display_data"
    }
   ],
   "source": [
    "from sklearn.metrics import confusion_matrix\n",
    "import seaborn as sns\n",
    "\n",
    "y_pred = model.predict(X_test)\n",
    "y_pred = np.round(y_pred).flatten()\n",
    "cm = confusion_matrix(y_test, y_pred)\n",
    "sns.heatmap(cm, annot=True, cmap='Blues')"
   ]
  },
  {
   "cell_type": "code",
   "execution_count": 229,
   "id": "354aef40",
   "metadata": {},
   "outputs": [
    {
     "name": "stdout",
     "output_type": "stream",
     "text": [
      "              precision    recall  f1-score   support\n",
      "\n",
      "           0       0.74      0.95      0.83       313\n",
      "           1       0.78      0.34      0.48       158\n",
      "\n",
      "    accuracy                           0.75       471\n",
      "   macro avg       0.76      0.65      0.65       471\n",
      "weighted avg       0.76      0.75      0.71       471\n",
      "\n"
     ]
    }
   ],
   "source": [
    "from sklearn.metrics import classification_report\n",
    "\n",
    "y_pred = model.predict(X_test)\n",
    "y_pred = np.round(y_pred).flatten()\n",
    "print(classification_report(y_test, y_pred))"
   ]
  },
  {
   "cell_type": "code",
   "execution_count": 232,
   "id": "cffad2c7",
   "metadata": {},
   "outputs": [
    {
     "name": "stdout",
     "output_type": "stream",
     "text": [
      "Sentence: A person died due to malaria\n",
      "Sentiment: Negative\n",
      "\n",
      "Sentence: There is huge loss for family\n",
      "Sentiment: Negative\n",
      "\n",
      "Sentence: The taste of victory was bitter as the team realized they had cheated to win.\n",
      "Sentiment: Negative\n",
      "\n",
      "Sentence: The special effects are amazing\n",
      "Sentiment: Positive\n",
      "\n",
      "Sentence: I hated the ending\n",
      "Sentiment: Negative\n",
      "\n",
      "Sentence: The characters are interesting\n",
      "Sentiment: Positive\n",
      "\n",
      "Sentence: The story is realistic\n",
      "Sentiment: Positive\n",
      "\n",
      "Sentence: I didnt enjoy the movie\n",
      "Sentiment: Negative\n",
      "\n",
      "Sentence: The script is well-written\n",
      "Sentiment: Positive\n",
      "\n",
      "Sentence: Students excel in exams\n",
      "Sentiment: Positive\n",
      "\n"
     ]
    }
   ],
   "source": [
    "import numpy as np\n",
    "from tensorflow.keras.models import load_model\n",
    "from tensorflow.keras.preprocessing.sequence import pad_sequences\n",
    "\n",
    "sentences = ['A person died due to malaria',\n",
    "             'There is huge loss for family', \n",
    "             'The taste of victory was bitter as the team realized they had cheated to win.',\n",
    "             'The special effects are amazing',\n",
    "             'I hated the ending',\n",
    "             'The characters are interesting',\n",
    "             'The story is realistic', \n",
    "             'I didnt enjoy the movie',\n",
    "             'The script is well-written', \n",
    "             'Students excel in exams']\n",
    "sample_sequences = tokenizer.texts_to_sequences(sentences)\n",
    "max_sequence_length = len(max(X_train, key=len))\n",
    "sample_sequences = pad_sequences(sample_sequences, maxlen=max_sequence_length, padding='post')\n",
    "predictions = model.predict(padded_sequences)\n",
    "for i in range(len(sentences)):\n",
    "    sentiment = 'Positive' if predictions[i] > 0.5 else 'Negative'\n",
    "    print(f\"Sentence: {sentences[i]}\\nSentiment: {sentiment}\\n\")\n"
   ]
  },
  {
   "cell_type": "code",
   "execution_count": null,
   "id": "23a4c50c",
   "metadata": {},
   "outputs": [],
   "source": []
  }
 ],
 "metadata": {
  "kernelspec": {
   "display_name": "Python 3 (ipykernel)",
   "language": "python",
   "name": "python3"
  },
  "language_info": {
   "codemirror_mode": {
    "name": "ipython",
    "version": 3
   },
   "file_extension": ".py",
   "mimetype": "text/x-python",
   "name": "python",
   "nbconvert_exporter": "python",
   "pygments_lexer": "ipython3",
   "version": "3.9.13"
  }
 },
 "nbformat": 4,
 "nbformat_minor": 5
}
